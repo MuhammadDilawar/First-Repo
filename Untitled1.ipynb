{
 "cells": [
  {
   "cell_type": "markdown",
   "metadata": {},
   "source": [
    "# ATM MACHINE :"
   ]
  },
  {
   "cell_type": "code",
   "execution_count": 2,
   "metadata": {},
   "outputs": [
    {
     "ename": "SyntaxError",
     "evalue": "invalid syntax (<ipython-input-2-bf5dd192b8eb>, line 4)",
     "output_type": "error",
     "traceback": [
      "\u001b[1;36m  File \u001b[1;32m\"<ipython-input-2-bf5dd192b8eb>\"\u001b[1;36m, line \u001b[1;32m4\u001b[0m\n\u001b[1;33m    if card== \"yes\" and pin_code==\"1234\"\u001b[0m\n\u001b[1;37m                                        ^\u001b[0m\n\u001b[1;31mSyntaxError\u001b[0m\u001b[1;31m:\u001b[0m invalid syntax\n"
     ]
    }
   ],
   "source": [
    "card=input(\"Do you have card?\").lower()\n",
    "Pin_code=int(input(\"Enter a pin_code\"))#1234\n",
    "a=5000000\n",
    "if card== \"yes\" and pin_code==\"1234\"\n",
    "    print(\"select any one number\")\n",
    "    print(\"1 for balance\")\n",
    "    print(\"2 for Deposit\")\n",
    "    print(\"3 for withdraw\")\n",
    "    select=int(input(\" \"))\n",
    "    if select==1:\n",
    "        print(f\"your balance is {a}\")\n",
    "    elif select==2:\n",
    "        Deposit=int(input(\"Enter your amount\"))\n",
    "        if Deposit < 5000:\n",
    "            print(\"Your amount is not standard\")\n",
    "            print(\"Standard amount is = 5000\")\n",
    "        else:\n",
    "            a= a+deposit\n",
    "            print(f\"Thanks your remaining balance is {a}\")\n",
    "    elif select==3:\n",
    "            withdraw=int(input(\"Enter your amount\"))\n",
    "            if withdraw < 5000:\n",
    "                print(\"your amount is not standard\")\n",
    "                print(\"srandard amount is = 5000\")\n",
    "            elif withdraw > a:\n",
    "                print(\"Insufficient balance\")\n",
    "            else:\n",
    "                a=a-withdraw\n",
    "                print(f\"Thanks your remaining balance is {a}\")\n",
    "    else:\n",
    "        print(\"Invalid selection\")\n",
    "else:\n",
    "    print(\"kindly take your card or your pin_code is Invalid \")\n",
    "            \n",
    "            \n",
    "\n",
    "    "
   ]
  },
  {
   "cell_type": "code",
   "execution_count": null,
   "metadata": {},
   "outputs": [],
   "source": []
  },
  {
   "cell_type": "code",
   "execution_count": null,
   "metadata": {},
   "outputs": [],
   "source": []
  }
 ],
 "metadata": {
  "kernelspec": {
   "display_name": "Python 3",
   "language": "python",
   "name": "python3"
  },
  "language_info": {
   "codemirror_mode": {
    "name": "ipython",
    "version": 3
   },
   "file_extension": ".py",
   "mimetype": "text/x-python",
   "name": "python",
   "nbconvert_exporter": "python",
   "pygments_lexer": "ipython3",
   "version": "3.7.3"
  }
 },
 "nbformat": 4,
 "nbformat_minor": 2
}
