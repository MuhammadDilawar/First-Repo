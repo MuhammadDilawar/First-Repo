{
 "cells": [
  {
   "cell_type": "markdown",
   "metadata": {},
   "source": [
    "# ATM MACHINE"
   ]
  },
  {
   "cell_type": "code",
   "execution_count": 4,
   "metadata": {},
   "outputs": [
    {
     "name": "stdout",
     "output_type": "stream",
     "text": [
      "Enter your 4 digit Pin:7865\n",
      "\n",
      " Welcome Dilawar Khan \n",
      "\n",
      "Please print your desire action \n",
      "\n",
      "Press 1 for Balance Inquiry : \n",
      " Press 2 for cash withdraw :1\n",
      "Your current balance is:  500000\n",
      " \n",
      " Enter 0 to Exit : \n",
      " Enter to 2 to withdraw :\n"
     ]
    }
   ],
   "source": [
    "balance = 500000\n",
    "\n",
    "a=input(\"Enter your 4 digit Pin:\")#7865\n",
    "\n",
    "while a!=\"7865\":\n",
    "    a=input(\"Wrong pin Number, please try again:\")\n",
    "    \n",
    "if a == \"7865\":\n",
    "    \n",
    "    print(\"\\n Welcome Dilawar Khan \\n\")\n",
    "    print(\"Please print your desire action \\n\")\n",
    "    b=input(\"Press 1 for Balance Inquiry : \\n Press 2 for cash withdraw :\")\n",
    "    \n",
    "    if b==  \"1\":\n",
    "        \n",
    "        print(\"Your current balance is: \" ,balance)\n",
    "        print(\" \\n Enter 0 to Exit : \\n Enter to 2 to withdraw :\")\n",
    "        \n",
    "    if b== \"2\":\n",
    "        signal= True\n",
    "            \n",
    "        while signal== True:\n",
    "            \n",
    "            c=int(input(\"\\n Please Enter amount to withdraw : \"))\n",
    "            \n",
    "            if c== balance:\n",
    "                \n",
    "                amount=balance-c\n",
    "                print(\"\\n Transiction Complete \\n\\n ,Your new balance is :\" , amount)\n",
    "                signal=False\n",
    "                \n",
    "            else:\n",
    "                print(\"\\n Not Enough Balance! Try Again\")\n",
    "                signal=True\n",
    "                \n",
    "            if b==\"0\":\n",
    "                \n",
    "                print(\"\\n Transiction Cancelled\")\n",
    "                "
   ]
  },
  {
   "cell_type": "code",
   "execution_count": null,
   "metadata": {},
   "outputs": [],
   "source": []
  }
 ],
 "metadata": {
  "kernelspec": {
   "display_name": "Python 3",
   "language": "python",
   "name": "python3"
  },
  "language_info": {
   "codemirror_mode": {
    "name": "ipython",
    "version": 3
   },
   "file_extension": ".py",
   "mimetype": "text/x-python",
   "name": "python",
   "nbconvert_exporter": "python",
   "pygments_lexer": "ipython3",
   "version": "3.7.3"
  }
 },
 "nbformat": 4,
 "nbformat_minor": 2
}
