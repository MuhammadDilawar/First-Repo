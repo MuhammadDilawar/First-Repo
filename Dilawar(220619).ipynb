{
 "cells": [
  {
   "cell_type": "code",
   "execution_count": 2,
   "metadata": {},
   "outputs": [
    {
     "name": "stdout",
     "output_type": "stream",
     "text": [
      " PIAIC\n",
      " hello \n"
     ]
    }
   ],
   "source": [
    "print(\" PIAIC\")\n",
    "def greet_user():\n",
    "    print(\" apna time ayga\")\n",
    "    \n",
    "print(\" hello \")    \n",
    "    "
   ]
  },
  {
   "cell_type": "code",
   "execution_count": 3,
   "metadata": {},
   "outputs": [
    {
     "name": "stdout",
     "output_type": "stream",
     "text": [
      " apna time ayga\n"
     ]
    }
   ],
   "source": [
    "greet_user()"
   ]
  },
  {
   "cell_type": "code",
   "execution_count": 4,
   "metadata": {},
   "outputs": [
    {
     "name": "stdout",
     "output_type": "stream",
     "text": [
      " apna time ayga\n"
     ]
    }
   ],
   "source": [
    "greet_user()"
   ]
  },
  {
   "cell_type": "code",
   "execution_count": 5,
   "metadata": {},
   "outputs": [],
   "source": [
    "def mult(a,b):\n",
    "    c = a *b\n",
    "    print(c)\n",
    "    \n",
    "    \n",
    "    "
   ]
  },
  {
   "cell_type": "code",
   "execution_count": 6,
   "metadata": {},
   "outputs": [
    {
     "name": "stdout",
     "output_type": "stream",
     "text": [
      "8\n"
     ]
    }
   ],
   "source": [
    "mult(2,4)"
   ]
  },
  {
   "cell_type": "code",
   "execution_count": 10,
   "metadata": {},
   "outputs": [
    {
     "name": "stdout",
     "output_type": "stream",
     "text": [
      "15\n"
     ]
    }
   ],
   "source": [
    "mult(5,3,)"
   ]
  },
  {
   "cell_type": "code",
   "execution_count": 11,
   "metadata": {},
   "outputs": [
    {
     "name": "stdout",
     "output_type": "stream",
     "text": [
      "25\n"
     ]
    }
   ],
   "source": [
    "mult(5,5)"
   ]
  },
  {
   "cell_type": "code",
   "execution_count": 13,
   "metadata": {},
   "outputs": [
    {
     "name": "stdout",
     "output_type": "stream",
     "text": [
      "9\n"
     ]
    }
   ],
   "source": [
    "def add(a,b):\n",
    "    c= a+b\n",
    "    print(c)\n",
    "add(4,5)    \n"
   ]
  },
  {
   "cell_type": "code",
   "execution_count": 18,
   "metadata": {},
   "outputs": [
    {
     "name": "stdout",
     "output_type": "stream",
     "text": [
      "Muhammad Dilawar Khan\n"
     ]
    }
   ],
   "source": [
    "def full_name(first_name , Middle_name , Last_name):\n",
    "    name = first_name +' '+ Middle_name+' '+ Last_name\n",
    "    print(name)\n",
    "full_name(\"Muhammad\",\"Dilawar\",\"Khan\")    "
   ]
  },
  {
   "cell_type": "code",
   "execution_count": 21,
   "metadata": {},
   "outputs": [
    {
     "name": "stdout",
     "output_type": "stream",
     "text": [
      "Enter you first name:Muhammad\n",
      "Enter your middle name:Taimur \n",
      "Enter your last name:Niaz\n",
      "Muhammad Taimur  Niaz\n"
     ]
    }
   ],
   "source": [
    "first_name = input(\"Enter you first name:\")\n",
    "middle_name= input(\"Enter your middle name:\")\n",
    "last_name = input(\"Enter your last name:\")\n",
    "\n",
    "def my_name(first_name, middle_name,last_name):\n",
    "    my_full_name =first_name+\" \"+middle_name +\" \"+last_name\n",
    "    print(my_full_name)\n",
    "my_name(first_name,middle_name,last_name)    "
   ]
  },
  {
   "cell_type": "code",
   "execution_count": 3,
   "metadata": {},
   "outputs": [
    {
     "name": "stdout",
     "output_type": "stream",
     "text": [
      "Enter you first name:Muhammad\n",
      "Enter your middle name:Taimur \n",
      "Enter your last name:Niaz\n",
      "My name is Muhammad Taimur  Niaz\n"
     ]
    }
   ],
   "source": [
    "def my_name():\n",
    "\n",
    "    first_name = input(\"Enter you first name:\")\n",
    "    middle_name= input(\"Enter your middle name:\")\n",
    "    \n",
    "    last_name = input(\"Enter your last name:\")\n",
    "    my_full_name =first_name+\" \"+middle_name +\" \"+last_name\n",
    "    print(\"My name is \"+my_full_name.title())\n",
    "my_name()    "
   ]
  },
  {
   "cell_type": "code",
   "execution_count": 4,
   "metadata": {
    "scrolled": true
   },
   "outputs": [
    {
     "data": {
      "text/plain": [
       "'DILAWAR'"
      ]
     },
     "execution_count": 4,
     "metadata": {},
     "output_type": "execute_result"
    }
   ],
   "source": [
    "\"dilawar\".upper()"
   ]
  },
  {
   "cell_type": "code",
   "execution_count": 6,
   "metadata": {},
   "outputs": [
    {
     "data": {
      "text/plain": [
       "'dilawar'"
      ]
     },
     "execution_count": 6,
     "metadata": {},
     "output_type": "execute_result"
    }
   ],
   "source": [
    "\"DILAWAR\".lower()"
   ]
  },
  {
   "cell_type": "code",
   "execution_count": 16,
   "metadata": {},
   "outputs": [
    {
     "name": "stdout",
     "output_type": "stream",
     "text": [
      "30\n",
      "11\n",
      "-1\n"
     ]
    }
   ],
   "source": [
    "def cal(a,b,operator):\n",
    "    if operator == '+':\n",
    "        c= a+b\n",
    "        print(c)\n",
    "    elif operator =='-':\n",
    "        c= a-b\n",
    "        print(c)\n",
    "    elif operator =='*':\n",
    "        c= a*b\n",
    "        print(c)\n",
    "    elif operator =='/':\n",
    "        c= a/b\n",
    "        print(c)\n",
    "    else:\n",
    "        print(\"Operator Not Define\")\n",
    "cal(5,6,\"*\")\n",
    "cal(5,6,\"+\")\n",
    "cal(5,6,\"-\")"
   ]
  },
  {
   "cell_type": "markdown",
   "metadata": {},
   "source": [
    "# KEYWORD ARGUMENT\n"
   ]
  },
  {
   "cell_type": "code",
   "execution_count": 17,
   "metadata": {},
   "outputs": [
    {
     "name": "stdout",
     "output_type": "stream",
     "text": [
      "Operator Not Define\n"
     ]
    }
   ],
   "source": [
    "cal(2,\"+\",3)"
   ]
  },
  {
   "cell_type": "code",
   "execution_count": 18,
   "metadata": {},
   "outputs": [
    {
     "name": "stdout",
     "output_type": "stream",
     "text": [
      "9\n"
     ]
    }
   ],
   "source": [
    "cal(a=4,operator=\"+\",b=5)"
   ]
  },
  {
   "cell_type": "code",
   "execution_count": 20,
   "metadata": {},
   "outputs": [
    {
     "name": "stdout",
     "output_type": "stream",
     "text": [
      "0.8\n"
     ]
    }
   ],
   "source": [
    "cal(operator=\"/\",a=4,b=5)"
   ]
  },
  {
   "cell_type": "markdown",
   "metadata": {},
   "source": [
    "# DEFUALT PARAMETER"
   ]
  },
  {
   "cell_type": "code",
   "execution_count": 22,
   "metadata": {},
   "outputs": [
    {
     "name": "stdout",
     "output_type": "stream",
     "text": [
      "My name is Dilawar.\n",
      "My age is 20.\n",
      "My gender is male.\n"
     ]
    }
   ],
   "source": [
    "def my_info(name , age=20 , gender='male'):\n",
    "    print(f\"My name is {name}.\")\n",
    "    print(f\"My age is {age}.\")\n",
    "    print(f\"My gender is {gender}.\")\n",
    "my_info('Dilawar')    "
   ]
  },
  {
   "cell_type": "code",
   "execution_count": 23,
   "metadata": {},
   "outputs": [
    {
     "name": "stdout",
     "output_type": "stream",
     "text": [
      "Muhammad Khan Dilawar\n"
     ]
    }
   ],
   "source": [
    "def my_name_is(f_name , l_name ,m_name = ''):\n",
    "    if m_name:\n",
    "        full_name= f_name + \" \" + m_name +\" \"+l_name\n",
    "    else:\n",
    "        full_name = f_name + ' ' +l_name  \n",
    "    return full_name\n",
    "\n",
    "a= my_name_is('Muhammad', 'Dilawar', 'Khan')\n",
    "print(a)"
   ]
  },
  {
   "cell_type": "code",
   "execution_count": 28,
   "metadata": {},
   "outputs": [
    {
     "name": "stdout",
     "output_type": "stream",
     "text": [
      "Muhammad Dialwar\n"
     ]
    }
   ],
   "source": [
    "b = my_name_is('Muhammad' , 'Dialwar')\n",
    "print(b)"
   ]
  },
  {
   "cell_type": "code",
   "execution_count": 33,
   "metadata": {},
   "outputs": [
    {
     "name": "stdout",
     "output_type": "stream",
     "text": [
      "hello ,Ali\n",
      "hello ,Ahmed\n",
      "hello ,Ahsan\n",
      "hello ,Hamza\n"
     ]
    }
   ],
   "source": [
    "def my_friends(names):\n",
    "    for name in names:\n",
    "        greet = \"hello ,\" + name\n",
    "        print(greet)\n",
    "        \n",
    "user = ['Ali','Ahmed','Ahsan','Hamza']\n",
    "my_friends(user)\n"
   ]
  },
  {
   "cell_type": "code",
   "execution_count": 36,
   "metadata": {},
   "outputs": [
    {
     "name": "stdout",
     "output_type": "stream",
     "text": [
      "first Muhammad\n",
      "last_name Dilawar\n",
      "age 21\n"
     ]
    }
   ],
   "source": [
    "def human(f_name , l_name ,age):\n",
    "    build_human = {'first' : f_name ,'last_name' : l_name , 'age':age }\n",
    "    for key , value in build_human.items():\n",
    "        print(key , value)\n",
    "human('Muhammad' , 'Dilawar' , 21)        \n",
    "    "
   ]
  },
  {
   "cell_type": "code",
   "execution_count": 38,
   "metadata": {},
   "outputs": [
    {
     "name": "stdout",
     "output_type": "stream",
     "text": [
      "first Muhammad\n",
      "('cef', 'aaa', 'ccc', 'vvv')\n",
      "last_name Dilawar\n",
      "('cef', 'aaa', 'ccc', 'vvv')\n",
      "age 21\n",
      "('cef', 'aaa', 'ccc', 'vvv')\n"
     ]
    }
   ],
   "source": [
    "def human(f_name , l_name ,age,*others):\n",
    "    build_human = {'first' : f_name ,'last_name' : l_name , 'age':age ,  }\n",
    "    for key , value in build_human.items():\n",
    "        print(key , value)\n",
    "        print(others)\n",
    "human('Muhammad' , 'Dilawar' , 21 ,'cef', 'aaa', 'ccc' ,'vvv')        \n",
    "    "
   ]
  },
  {
   "cell_type": "code",
   "execution_count": 43,
   "metadata": {},
   "outputs": [
    {
     "name": "stdout",
     "output_type": "stream",
     "text": [
      "first Muhammad\n",
      "{'cef': 'aaa', 'ccc': 'vvv'}\n",
      "last_name Dilawar\n",
      "{'cef': 'aaa', 'ccc': 'vvv'}\n",
      "age 21\n",
      "{'cef': 'aaa', 'ccc': 'vvv'}\n"
     ]
    }
   ],
   "source": [
    "def human(f_name , l_name ,age,**toopings):\n",
    "    build_human = {'first' : f_name ,'last_name' : l_name , 'age':age ,  }\n",
    "    for key , value in build_human.items():\n",
    "        print(key , value)\n",
    "        print(toopings)\n",
    "human('Muhammad' , 'Dilawar' , 21 ,cef = 'aaa', ccc ='vvv')        \n",
    "    "
   ]
  },
  {
   "cell_type": "code",
   "execution_count": null,
   "metadata": {},
   "outputs": [],
   "source": []
  }
 ],
 "metadata": {
  "kernelspec": {
   "display_name": "Python 3",
   "language": "python",
   "name": "python3"
  },
  "language_info": {
   "codemirror_mode": {
    "name": "ipython",
    "version": 3
   },
   "file_extension": ".py",
   "mimetype": "text/x-python",
   "name": "python",
   "nbconvert_exporter": "python",
   "pygments_lexer": "ipython3",
   "version": "3.7.3"
  }
 },
 "nbformat": 4,
 "nbformat_minor": 2
}
