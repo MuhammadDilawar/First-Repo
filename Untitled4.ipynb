{
 "cells": [
  {
   "cell_type": "code",
   "execution_count": null,
   "metadata": {},
   "outputs": [],
   "source": [
    "to_do_list = ['Breakfast','College','Assingment','Gym','Dinner']\n",
    "task_Completed = []"
   ]
  },
  {
   "cell_type": "code",
   "execution_count": null,
   "metadata": {},
   "outputs": [],
   "source": [
    "user_input=input(\"Tell me the task you have done\")\n",
    "if user_input in to_do_list:\n",
    "    poping_task=to_do_list.index(user_input)\n",
    "    to_do_list.pop(poping_task)\n",
    "    task_completed.append(user_input)\n",
    "    print(f\"your to_do_list is/are : ,{to_do_list}\")\n",
    "    print(f\"Task\\s you have done is/are: ,{task_completed}\")\n",
    "else:\n",
    "    print(\"you have not done task yet\")"
   ]
  },
  {
   "cell_type": "code",
   "execution_count": null,
   "metadata": {},
   "outputs": [],
   "source": []
  }
 ],
 "metadata": {
  "kernelspec": {
   "display_name": "Python 3",
   "language": "python",
   "name": "python3"
  },
  "language_info": {
   "codemirror_mode": {
    "name": "ipython",
    "version": 3
   },
   "file_extension": ".py",
   "mimetype": "text/x-python",
   "name": "python",
   "nbconvert_exporter": "python",
   "pygments_lexer": "ipython3",
   "version": "3.7.3"
  }
 },
 "nbformat": 4,
 "nbformat_minor": 2
}
