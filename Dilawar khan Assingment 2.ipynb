{
 "cells": [
  {
   "cell_type": "markdown",
   "metadata": {},
   "source": [
    "# TO DO APPLICATION\n"
   ]
  },
  {
   "cell_type": "code",
   "execution_count": 1,
   "metadata": {},
   "outputs": [],
   "source": [
    "to_do_list=[\"Breakfast\",\"Assingment\",\"College\",\"Gym\",\"Dinner\"]\n",
    "task_done=[]"
   ]
  },
  {
   "cell_type": "code",
   "execution_count": 4,
   "metadata": {},
   "outputs": [
    {
     "name": "stdout",
     "output_type": "stream",
     "text": [
      "Tell me you have done the task:Breakfast\n",
      "You have not done task yet\n"
     ]
    }
   ],
   "source": [
    "user_input=input(\"Tell me you have done the task\")\n",
    "if user_input in to_do_list:\n",
    "    poping_task=to_list.index(user_input)\n",
    "    to_do_list.pop(poping_task)\n",
    "    task_done.append(user_input)\n",
    "    print(f\" YOur to_do_task is/are : ,{to_do_list}\")\n",
    "    print(f\" Task\\s you have done is/are : ,{task_done}\")\n",
    "else:\n",
    "    print(\"You have not done task yet\")"
   ]
  }
 ],
 "metadata": {
  "kernelspec": {
   "display_name": "Python 3",
   "language": "python",
   "name": "python3"
  },
  "language_info": {
   "codemirror_mode": {
    "name": "ipython",
    "version": 3
   },
   "file_extension": ".py",
   "mimetype": "text/x-python",
   "name": "python",
   "nbconvert_exporter": "python",
   "pygments_lexer": "ipython3",
   "version": "3.7.3"
  }
 },
 "nbformat": 4,
 "nbformat_minor": 2
}
